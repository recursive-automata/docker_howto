{
 "cells": [
  {
   "cell_type": "code",
   "execution_count": 1,
   "metadata": {},
   "outputs": [],
   "source": [
    "from pyspark import SparkContext, SparkConf\n",
    "from pyspark.sql import SparkSession\n",
    "from pyspark.sql.functions import col\n",
    "\n",
    "conf = SparkConf().setAppName('count_connections').setMaster('local[*]')\n",
    "sc = SparkContext(conf=conf)\n",
    "spark = SparkSession(sc)"
   ]
  },
  {
   "cell_type": "code",
   "execution_count": 2,
   "metadata": {},
   "outputs": [
    {
     "name": "stdout",
     "output_type": "stream",
     "text": [
      "+----+----+\n",
      "|id_1|id_2|\n",
      "+----+----+\n",
      "|   0|  21|\n",
      "|   0|  33|\n",
      "|   0| 120|\n",
      "|   0| 320|\n",
      "|   0| 702|\n",
      "|   0| 741|\n",
      "|   0| 820|\n",
      "|   0| 899|\n",
      "|   0| 928|\n",
      "|   0| 956|\n",
      "|   0| 960|\n",
      "|   1|  21|\n",
      "|   1| 248|\n",
      "|   1| 356|\n",
      "|   1| 523|\n",
      "|   1| 731|\n",
      "|   1| 767|\n",
      "|   1| 999|\n",
      "|   2|  31|\n",
      "|   2| 176|\n",
      "+----+----+\n",
      "only showing top 20 rows\n",
      "\n"
     ]
    }
   ],
   "source": [
    "# generate a synthetic graph by taking 1% of all\n",
    "# possible connections between 1000 vertices\n",
    "\n",
    "x = spark.range(1000)\n",
    "x_1 = x.select(col('id').alias('id_1'))\n",
    "x_2 = x.select(col('id').alias('id_2'))\n",
    "\n",
    "y = (\n",
    "    x_1.crossJoin(x_2)\n",
    "    .filter(col('id_1') < col('id_2'))\n",
    "    .sample(False, 0.01)\n",
    ")\n",
    "\n",
    "connections = y\n",
    "connections.show(20)\n",
    "connections.createOrReplaceTempView('connections')"
   ]
  },
  {
   "cell_type": "code",
   "execution_count": 3,
   "metadata": {},
   "outputs": [
    {
     "name": "stdout",
     "output_type": "stream",
     "text": [
      "+---+-------------+\n",
      "| id|n_connections|\n",
      "+---+-------------+\n",
      "|578|           25|\n",
      "|414|           23|\n",
      "|170|           22|\n",
      "|986|           22|\n",
      "|676|           21|\n",
      "|907|           21|\n",
      "|884|           20|\n",
      "|235|           20|\n",
      "| 78|           19|\n",
      "|976|           19|\n",
      "|358|           19|\n",
      "|798|           19|\n",
      "|565|           19|\n",
      "|355|           18|\n",
      "|838|           18|\n",
      "|240|           18|\n",
      "| 44|           18|\n",
      "|914|           18|\n",
      "|665|           18|\n",
      "|741|           17|\n",
      "+---+-------------+\n",
      "only showing top 20 rows\n",
      "\n"
     ]
    }
   ],
   "source": [
    "# perform analytics on the graph\n",
    "\n",
    "connection_counts_df = spark.sql('''\n",
    "\n",
    "SELECT id,\n",
    "       COUNT(*) AS n_connections\n",
    "\n",
    "FROM (\n",
    "    SELECT id_1 AS id\n",
    "    FROM connections\n",
    "    UNION ALL\n",
    "    SELECT id_2 AS id\n",
    "    FROM connections\n",
    "    )\n",
    "\n",
    "GROUP BY 1\n",
    "ORDER BY 2 DESC\n",
    "\n",
    "''')\n",
    "\n",
    "\n",
    "connection_counts_df.show(20)\n",
    "connection_counts_df.createOrReplaceTempView('connection_counts')"
   ]
  },
  {
   "cell_type": "code",
   "execution_count": 4,
   "metadata": {},
   "outputs": [
    {
     "name": "stdout",
     "output_type": "stream",
     "text": [
      "1000 ids in the dataset,\n",
      "with an average connection count of 9.9 +/- 3.3.\n"
     ]
    }
   ],
   "source": [
    "connection_stats = spark.sql('''\n",
    "\n",
    "SELECT\n",
    "    COUNT(*)                     AS count,\n",
    "    AVG(n_connections)           AS mean_connections,\n",
    "    SQRT(VAR_POP(n_connections)) AS stdev_connections\n",
    "FROM connection_counts\n",
    "\n",
    "''').collect()[0]\n",
    "\n",
    "msg = '''\n",
    "{0} ids in the dataset,\n",
    "with an average connection count of {1:.1f} +/- {2:.1f}.\n",
    "'''.strip().format(*connection_stats)\n",
    "\n",
    "print(msg)"
   ]
  },
  {
   "cell_type": "code",
   "execution_count": 5,
   "metadata": {},
   "outputs": [],
   "source": [
    "spark.stop()"
   ]
  },
  {
   "cell_type": "code",
   "execution_count": null,
   "metadata": {},
   "outputs": [],
   "source": []
  }
 ],
 "metadata": {
  "kernelspec": {
   "display_name": "Python 3",
   "language": "python",
   "name": "python3"
  },
  "language_info": {
   "codemirror_mode": {
    "name": "ipython",
    "version": 3
   },
   "file_extension": ".py",
   "mimetype": "text/x-python",
   "name": "python",
   "nbconvert_exporter": "python",
   "pygments_lexer": "ipython3",
   "version": "3.5.2"
  }
 },
 "nbformat": 4,
 "nbformat_minor": 2
}
