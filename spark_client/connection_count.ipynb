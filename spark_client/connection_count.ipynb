{
 "cells": [
  {
   "cell_type": "code",
   "execution_count": 1,
   "metadata": {},
   "outputs": [],
   "source": [
    "from pyspark import SparkContext, SparkConf\n",
    "from pyspark.sql import SparkSession\n",
    "from pyspark.sql.functions import col\n",
    "\n",
    "conf = SparkConf().setAppName('count_connections').setMaster('local[*]')\n",
    "sc = SparkContext(conf=conf)\n",
    "spark = SparkSession(sc)"
   ]
  },
  {
   "cell_type": "code",
   "execution_count": 2,
   "metadata": {},
   "outputs": [
    {
     "name": "stdout",
     "output_type": "stream",
     "text": [
      "+----+----+\n",
      "|id_1|id_2|\n",
      "+----+----+\n",
      "|   0| 313|\n",
      "|   0| 391|\n",
      "|   0| 490|\n",
      "|   0| 669|\n",
      "|   0| 719|\n",
      "|   1|  50|\n",
      "|   1| 111|\n",
      "|   1| 184|\n",
      "|   1| 209|\n",
      "|   1| 234|\n",
      "|   1| 421|\n",
      "|   1| 550|\n",
      "|   1| 664|\n",
      "|   1| 743|\n",
      "|   1| 764|\n",
      "|   1| 817|\n",
      "|   1| 851|\n",
      "|   1| 866|\n",
      "|   1| 997|\n",
      "|   2|  92|\n",
      "+----+----+\n",
      "only showing top 20 rows\n",
      "\n"
     ]
    }
   ],
   "source": [
    "# generate a synthetic graph\n",
    "\n",
    "x = spark.range(1000)\n",
    "x_1 = x.select(col('id').alias('id_1'))\n",
    "x_2 = x.select(col('id').alias('id_2'))\n",
    "\n",
    "y = (\n",
    "    x_1.crossJoin(x_2)\n",
    "    .filter(col('id_1') < col('id_2'))\n",
    "    .sample(False, 0.01)\n",
    ")\n",
    "\n",
    "connections = y\n",
    "connections.show(20)\n",
    "connections.createOrReplaceTempView('connections')"
   ]
  },
  {
   "cell_type": "code",
   "execution_count": 3,
   "metadata": {},
   "outputs": [
    {
     "name": "stdout",
     "output_type": "stream",
     "text": [
      "+---+-------------+\n",
      "| id|n_connections|\n",
      "+---+-------------+\n",
      "| 47|           22|\n",
      "|306|           20|\n",
      "|702|           20|\n",
      "|700|           20|\n",
      "|567|           19|\n",
      "|450|           19|\n",
      "|282|           19|\n",
      "|352|           18|\n",
      "|500|           18|\n",
      "|554|           18|\n",
      "|779|           18|\n",
      "| 24|           18|\n",
      "|538|           17|\n",
      "|752|           17|\n",
      "|171|           17|\n",
      "|224|           17|\n",
      "|345|           17|\n",
      "|628|           17|\n",
      "|644|           17|\n",
      "|623|           17|\n",
      "+---+-------------+\n",
      "only showing top 20 rows\n",
      "\n"
     ]
    }
   ],
   "source": [
    "connection_counts_df = spark.sql('''\n",
    "\n",
    "SELECT id,\n",
    "       COUNT(*) AS n_connections\n",
    "\n",
    "FROM (\n",
    "    SELECT id_1 AS id\n",
    "    FROM connections\n",
    "    UNION ALL\n",
    "    SELECT id_2 AS id\n",
    "    FROM connections\n",
    "    )\n",
    "\n",
    "GROUP BY 1\n",
    "ORDER BY 2 DESC\n",
    "\n",
    "''')\n",
    "\n",
    "\n",
    "connection_counts_df.show(20)\n",
    "connection_counts_df.createOrReplaceTempView('connection_counts')"
   ]
  },
  {
   "cell_type": "code",
   "execution_count": 4,
   "metadata": {},
   "outputs": [
    {
     "name": "stdout",
     "output_type": "stream",
     "text": [
      "\n",
      "1000 ids in the dataset,\n",
      "with an average connection count of 9.956.\n",
      "\n"
     ]
    }
   ],
   "source": [
    "avg_connections = spark.sql(\n",
    "\n",
    "    'SELECT COUNT(*), AVG(n_connections) FROM connection_counts'\n",
    "\n",
    ").collect()[0]\n",
    "\n",
    "msg = '''\n",
    "{0} ids in the dataset,\n",
    "with an average connection count of {1}.\n",
    "'''.format(*avg_connections)\n",
    "\n",
    "print(msg)"
   ]
  },
  {
   "cell_type": "code",
   "execution_count": 5,
   "metadata": {},
   "outputs": [],
   "source": [
    "spark.stop()"
   ]
  },
  {
   "cell_type": "code",
   "execution_count": null,
   "metadata": {},
   "outputs": [],
   "source": []
  }
 ],
 "metadata": {
  "kernelspec": {
   "display_name": "Python 3",
   "language": "python",
   "name": "python3"
  },
  "language_info": {
   "codemirror_mode": {
    "name": "ipython",
    "version": 3
   },
   "file_extension": ".py",
   "mimetype": "text/x-python",
   "name": "python",
   "nbconvert_exporter": "python",
   "pygments_lexer": "ipython3",
   "version": "3.5.2"
  }
 },
 "nbformat": 4,
 "nbformat_minor": 2
}
